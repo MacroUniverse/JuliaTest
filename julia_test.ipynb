{
 "cells": [
  {
   "cell_type": "code",
   "execution_count": 4,
   "id": "ef7f0357",
   "metadata": {},
   "outputs": [],
   "source": [
    "using Arblib"
   ]
  },
  {
   "cell_type": "code",
   "execution_count": 11,
   "id": "1f00b430",
   "metadata": {},
   "outputs": [
    {
     "data": {
      "text/plain": [
       "2×2 ArbMatrix:\n",
       " 1.000000000000000000  2.000000000000000000\n",
       " 3.000000000000000000  4.000000000000000000"
      ]
     },
     "execution_count": 11,
     "metadata": {},
     "output_type": "execute_result"
    }
   ],
   "source": [
    "A = ArbMatrix([1 2; 3 4]; prec=64)"
   ]
  },
  {
   "cell_type": "code",
   "execution_count": 13,
   "id": "9a088288",
   "metadata": {},
   "outputs": [
    {
     "data": {
      "text/plain": [
       "[0.38461538461538461538461538461538461538461538461538461538461538461538461538461 +/- 8.38e-78]"
      ]
     },
     "execution_count": 13,
     "metadata": {},
     "output_type": "execute_result"
    }
   ],
   "source": [
    "x = Arblib.set!(Arb(), 5//13)"
   ]
  },
  {
   "cell_type": "code",
   "execution_count": 15,
   "id": "2ceb0150",
   "metadata": {},
   "outputs": [
    {
     "data": {
      "text/plain": [
       "[0.38461538461538461538461538461538461538461538461538461538461538461538461538461 +/- 8.38e-78]"
      ]
     },
     "execution_count": 15,
     "metadata": {},
     "output_type": "execute_result"
    }
   ],
   "source": [
    "y = Arb(5//13)"
   ]
  },
  {
   "cell_type": "code",
   "execution_count": 18,
   "id": "9c5a68c0",
   "metadata": {},
   "outputs": [
    {
     "data": {
      "text/plain": [
       "[17.079468445347134130927101739093148990069777071530229923759202260358457222314 +/- 9.19e-76]"
      ]
     },
     "execution_count": 18,
     "metadata": {},
     "output_type": "execute_result"
    }
   ],
   "source": [
    "2(π*(Arb(ℯ)))"
   ]
  },
  {
   "cell_type": "code",
   "execution_count": 9,
   "id": "0af23df2",
   "metadata": {},
   "outputs": [
    {
     "data": {
      "text/plain": [
       "[2.71828182845904523536028747135 +/- 4.40e-30]"
      ]
     },
     "execution_count": 9,
     "metadata": {},
     "output_type": "execute_result"
    }
   ],
   "source": [
    "a = Arb(ℯ, prec=100)"
   ]
  }
 ],
 "metadata": {
  "kernelspec": {
   "display_name": "Julia 1.8.0-rc4",
   "language": "julia",
   "name": "julia-1.8"
  },
  "language_info": {
   "file_extension": ".jl",
   "mimetype": "application/julia",
   "name": "julia",
   "version": "1.8.0"
  }
 },
 "nbformat": 4,
 "nbformat_minor": 5
}
